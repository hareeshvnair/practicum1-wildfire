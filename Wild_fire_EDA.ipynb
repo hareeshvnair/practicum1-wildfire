{
 "cells": [
  {
   "cell_type": "markdown",
   "metadata": {},
   "source": [
    "## Data Practicum 1\n",
    "\n",
    "### Title of the project:  Wildfire Data Analysis\n",
    "\n",
    "#### Submitted by - Hareesh Nair"
   ]
  },
  {
   "cell_type": "code",
   "execution_count": 1,
   "metadata": {},
   "outputs": [],
   "source": [
    "# Importing libraries\n",
    "\n",
    "import pandas as pd\n",
    "import matplotlib.pyplot as plt\n",
    "import numpy as np\n",
    "import os\n",
    "\n",
    "# sklearn packages\n",
    "from sklearn.model_selection import train_test_split\n",
    "from sklearn.metrics import confusion_matrix\n",
    "from sklearn.metrics import accuracy_score\n",
    "\n",
    "# plotting\n",
    "import seaborn as sns\n",
    "import datetime as dt\n",
    "import warnings\n",
    "warnings.filterwarnings(\"ignore\")\n",
    "warnings.simplefilter('ignore')\n"
   ]
  },
  {
   "cell_type": "markdown",
   "metadata": {},
   "source": [
    "### Data Preparation\n",
    "\n",
    "* Data set is used from kaggle site with California wildfire data and weather data."
   ]
  },
  {
   "cell_type": "code",
   "execution_count": 2,
   "metadata": {},
   "outputs": [],
   "source": [
    "\n",
    "# Data loading\n",
    "df_fire = pd.read_csv('Dataset/California_Fire_Incidents.csv')\n"
   ]
  },
  {
   "cell_type": "code",
   "execution_count": 3,
   "metadata": {},
   "outputs": [
    {
     "data": {
      "text/html": [
       "<div>\n",
       "<style scoped>\n",
       "    .dataframe tbody tr th:only-of-type {\n",
       "        vertical-align: middle;\n",
       "    }\n",
       "\n",
       "    .dataframe tbody tr th {\n",
       "        vertical-align: top;\n",
       "    }\n",
       "\n",
       "    .dataframe thead th {\n",
       "        text-align: right;\n",
       "    }\n",
       "</style>\n",
       "<table border=\"1\" class=\"dataframe\">\n",
       "  <thead>\n",
       "    <tr style=\"text-align: right;\">\n",
       "      <th></th>\n",
       "      <th>AcresBurned</th>\n",
       "      <th>Active</th>\n",
       "      <th>AdminUnit</th>\n",
       "      <th>AirTankers</th>\n",
       "      <th>ArchiveYear</th>\n",
       "      <th>CalFireIncident</th>\n",
       "      <th>CanonicalUrl</th>\n",
       "      <th>ConditionStatement</th>\n",
       "      <th>ControlStatement</th>\n",
       "      <th>Counties</th>\n",
       "      <th>...</th>\n",
       "      <th>SearchKeywords</th>\n",
       "      <th>Started</th>\n",
       "      <th>Status</th>\n",
       "      <th>StructuresDamaged</th>\n",
       "      <th>StructuresDestroyed</th>\n",
       "      <th>StructuresEvacuated</th>\n",
       "      <th>StructuresThreatened</th>\n",
       "      <th>UniqueId</th>\n",
       "      <th>Updated</th>\n",
       "      <th>WaterTenders</th>\n",
       "    </tr>\n",
       "  </thead>\n",
       "  <tbody>\n",
       "    <tr>\n",
       "      <td>0</td>\n",
       "      <td>257314.0</td>\n",
       "      <td>False</td>\n",
       "      <td>Stanislaus National Forest/Yosemite National Park</td>\n",
       "      <td>NaN</td>\n",
       "      <td>2013</td>\n",
       "      <td>True</td>\n",
       "      <td>/incidents/2013/8/17/rim-fire/</td>\n",
       "      <td>NaN</td>\n",
       "      <td>NaN</td>\n",
       "      <td>Tuolumne</td>\n",
       "      <td>...</td>\n",
       "      <td>Rim Fire, Stanislaus National Forest, Yosemite...</td>\n",
       "      <td>2013-08-17T15:25:00Z</td>\n",
       "      <td>Finalized</td>\n",
       "      <td>NaN</td>\n",
       "      <td>NaN</td>\n",
       "      <td>NaN</td>\n",
       "      <td>NaN</td>\n",
       "      <td>5fb18d4d-213f-4d83-a179-daaf11939e78</td>\n",
       "      <td>2013-09-06T18:30:00Z</td>\n",
       "      <td>NaN</td>\n",
       "    </tr>\n",
       "    <tr>\n",
       "      <td>1</td>\n",
       "      <td>30274.0</td>\n",
       "      <td>False</td>\n",
       "      <td>USFS Angeles National Forest/Los Angeles Count...</td>\n",
       "      <td>NaN</td>\n",
       "      <td>2013</td>\n",
       "      <td>True</td>\n",
       "      <td>/incidents/2013/5/30/powerhouse-fire/</td>\n",
       "      <td>NaN</td>\n",
       "      <td>NaN</td>\n",
       "      <td>Los Angeles</td>\n",
       "      <td>...</td>\n",
       "      <td>Powerhouse Fire, May 2013, June 2013, Angeles ...</td>\n",
       "      <td>2013-05-30T15:28:00Z</td>\n",
       "      <td>Finalized</td>\n",
       "      <td>NaN</td>\n",
       "      <td>NaN</td>\n",
       "      <td>NaN</td>\n",
       "      <td>NaN</td>\n",
       "      <td>bf37805e-1cc2-4208-9972-753e47874c87</td>\n",
       "      <td>2013-06-08T18:30:00Z</td>\n",
       "      <td>NaN</td>\n",
       "    </tr>\n",
       "    <tr>\n",
       "      <td>2</td>\n",
       "      <td>27531.0</td>\n",
       "      <td>False</td>\n",
       "      <td>CAL FIRE Riverside Unit / San Bernardino Natio...</td>\n",
       "      <td>NaN</td>\n",
       "      <td>2013</td>\n",
       "      <td>True</td>\n",
       "      <td>/incidents/2013/7/15/mountain-fire/</td>\n",
       "      <td>NaN</td>\n",
       "      <td>NaN</td>\n",
       "      <td>Riverside</td>\n",
       "      <td>...</td>\n",
       "      <td>Mountain Fire, July 2013, Highway 243, Highway...</td>\n",
       "      <td>2013-07-15T13:43:00Z</td>\n",
       "      <td>Finalized</td>\n",
       "      <td>NaN</td>\n",
       "      <td>NaN</td>\n",
       "      <td>NaN</td>\n",
       "      <td>NaN</td>\n",
       "      <td>a3149fec-4d48-427c-8b2c-59e8b79d59db</td>\n",
       "      <td>2013-07-30T18:00:00Z</td>\n",
       "      <td>NaN</td>\n",
       "    </tr>\n",
       "    <tr>\n",
       "      <td>3</td>\n",
       "      <td>27440.0</td>\n",
       "      <td>False</td>\n",
       "      <td>Tahoe National Forest</td>\n",
       "      <td>NaN</td>\n",
       "      <td>2013</td>\n",
       "      <td>False</td>\n",
       "      <td>/incidents/2013/8/10/american-fire/</td>\n",
       "      <td>NaN</td>\n",
       "      <td>NaN</td>\n",
       "      <td>Placer</td>\n",
       "      <td>...</td>\n",
       "      <td>American Fire, August 2013, Deadwood Ridge, Fo...</td>\n",
       "      <td>2013-08-10T16:30:00Z</td>\n",
       "      <td>Finalized</td>\n",
       "      <td>NaN</td>\n",
       "      <td>NaN</td>\n",
       "      <td>NaN</td>\n",
       "      <td>NaN</td>\n",
       "      <td>8213f5c7-34fa-403b-a4bc-da2ace6e6625</td>\n",
       "      <td>2013-08-30T08:00:00Z</td>\n",
       "      <td>NaN</td>\n",
       "    </tr>\n",
       "    <tr>\n",
       "      <td>4</td>\n",
       "      <td>24251.0</td>\n",
       "      <td>False</td>\n",
       "      <td>Ventura County Fire/CAL FIRE</td>\n",
       "      <td>NaN</td>\n",
       "      <td>2013</td>\n",
       "      <td>True</td>\n",
       "      <td>/incidents/2013/5/2/springs-fire/</td>\n",
       "      <td>Acreage has been reduced based upon more accur...</td>\n",
       "      <td>NaN</td>\n",
       "      <td>Ventura</td>\n",
       "      <td>...</td>\n",
       "      <td>Springs Fire, May 2013, Highway 101, Camarillo...</td>\n",
       "      <td>2013-05-02T07:01:00Z</td>\n",
       "      <td>Finalized</td>\n",
       "      <td>6.0</td>\n",
       "      <td>10.0</td>\n",
       "      <td>NaN</td>\n",
       "      <td>NaN</td>\n",
       "      <td>46731fb8-3350-4920-bdf7-910ac0eb715c</td>\n",
       "      <td>2013-05-11T06:30:00Z</td>\n",
       "      <td>11.0</td>\n",
       "    </tr>\n",
       "  </tbody>\n",
       "</table>\n",
       "<p>5 rows × 40 columns</p>\n",
       "</div>"
      ],
      "text/plain": [
       "   AcresBurned  Active                                          AdminUnit  \\\n",
       "0     257314.0   False  Stanislaus National Forest/Yosemite National Park   \n",
       "1      30274.0   False  USFS Angeles National Forest/Los Angeles Count...   \n",
       "2      27531.0   False  CAL FIRE Riverside Unit / San Bernardino Natio...   \n",
       "3      27440.0   False                              Tahoe National Forest   \n",
       "4      24251.0   False                       Ventura County Fire/CAL FIRE   \n",
       "\n",
       "   AirTankers  ArchiveYear  CalFireIncident  \\\n",
       "0         NaN         2013             True   \n",
       "1         NaN         2013             True   \n",
       "2         NaN         2013             True   \n",
       "3         NaN         2013            False   \n",
       "4         NaN         2013             True   \n",
       "\n",
       "                            CanonicalUrl  \\\n",
       "0         /incidents/2013/8/17/rim-fire/   \n",
       "1  /incidents/2013/5/30/powerhouse-fire/   \n",
       "2    /incidents/2013/7/15/mountain-fire/   \n",
       "3    /incidents/2013/8/10/american-fire/   \n",
       "4      /incidents/2013/5/2/springs-fire/   \n",
       "\n",
       "                                  ConditionStatement ControlStatement  \\\n",
       "0                                                NaN              NaN   \n",
       "1                                                NaN              NaN   \n",
       "2                                                NaN              NaN   \n",
       "3                                                NaN              NaN   \n",
       "4  Acreage has been reduced based upon more accur...              NaN   \n",
       "\n",
       "      Counties  ...                                     SearchKeywords  \\\n",
       "0     Tuolumne  ...  Rim Fire, Stanislaus National Forest, Yosemite...   \n",
       "1  Los Angeles  ...  Powerhouse Fire, May 2013, June 2013, Angeles ...   \n",
       "2    Riverside  ...  Mountain Fire, July 2013, Highway 243, Highway...   \n",
       "3       Placer  ...  American Fire, August 2013, Deadwood Ridge, Fo...   \n",
       "4      Ventura  ...  Springs Fire, May 2013, Highway 101, Camarillo...   \n",
       "\n",
       "                Started     Status  StructuresDamaged StructuresDestroyed  \\\n",
       "0  2013-08-17T15:25:00Z  Finalized                NaN                 NaN   \n",
       "1  2013-05-30T15:28:00Z  Finalized                NaN                 NaN   \n",
       "2  2013-07-15T13:43:00Z  Finalized                NaN                 NaN   \n",
       "3  2013-08-10T16:30:00Z  Finalized                NaN                 NaN   \n",
       "4  2013-05-02T07:01:00Z  Finalized                6.0                10.0   \n",
       "\n",
       "   StructuresEvacuated  StructuresThreatened  \\\n",
       "0                  NaN                   NaN   \n",
       "1                  NaN                   NaN   \n",
       "2                  NaN                   NaN   \n",
       "3                  NaN                   NaN   \n",
       "4                  NaN                   NaN   \n",
       "\n",
       "                               UniqueId               Updated  WaterTenders  \n",
       "0  5fb18d4d-213f-4d83-a179-daaf11939e78  2013-09-06T18:30:00Z           NaN  \n",
       "1  bf37805e-1cc2-4208-9972-753e47874c87  2013-06-08T18:30:00Z           NaN  \n",
       "2  a3149fec-4d48-427c-8b2c-59e8b79d59db  2013-07-30T18:00:00Z           NaN  \n",
       "3  8213f5c7-34fa-403b-a4bc-da2ace6e6625  2013-08-30T08:00:00Z           NaN  \n",
       "4  46731fb8-3350-4920-bdf7-910ac0eb715c  2013-05-11T06:30:00Z          11.0  \n",
       "\n",
       "[5 rows x 40 columns]"
      ]
     },
     "execution_count": 3,
     "metadata": {},
     "output_type": "execute_result"
    }
   ],
   "source": [
    "df_fire.head()"
   ]
  },
  {
   "cell_type": "code",
   "execution_count": 4,
   "metadata": {},
   "outputs": [
    {
     "data": {
      "text/plain": [
       "(1636, 40)"
      ]
     },
     "execution_count": 4,
     "metadata": {},
     "output_type": "execute_result"
    }
   ],
   "source": [
    "df_fire.shape"
   ]
  },
  {
   "cell_type": "code",
   "execution_count": 5,
   "metadata": {},
   "outputs": [
    {
     "name": "stdout",
     "output_type": "stream",
     "text": [
      "<class 'pandas.core.frame.DataFrame'>\n",
      "RangeIndex: 1636 entries, 0 to 1635\n",
      "Data columns (total 40 columns):\n",
      "AcresBurned             1633 non-null float64\n",
      "Active                  1636 non-null bool\n",
      "AdminUnit               1636 non-null object\n",
      "AirTankers              28 non-null float64\n",
      "ArchiveYear             1636 non-null int64\n",
      "CalFireIncident         1636 non-null bool\n",
      "CanonicalUrl            1636 non-null object\n",
      "ConditionStatement      284 non-null object\n",
      "ControlStatement        111 non-null object\n",
      "Counties                1636 non-null object\n",
      "CountyIds               1636 non-null object\n",
      "CrewsInvolved           171 non-null float64\n",
      "Dozers                  123 non-null float64\n",
      "Engines                 191 non-null float64\n",
      "Extinguished            1577 non-null object\n",
      "Fatalities              21 non-null float64\n",
      "Featured                1636 non-null bool\n",
      "Final                   1636 non-null bool\n",
      "FuelType                12 non-null object\n",
      "Helicopters             84 non-null float64\n",
      "Injuries                120 non-null float64\n",
      "Latitude                1636 non-null float64\n",
      "Location                1636 non-null object\n",
      "Longitude               1636 non-null float64\n",
      "MajorIncident           1636 non-null bool\n",
      "Name                    1636 non-null object\n",
      "PercentContained        1633 non-null float64\n",
      "PersonnelInvolved       204 non-null float64\n",
      "Public                  1636 non-null bool\n",
      "SearchDescription       1619 non-null object\n",
      "SearchKeywords          1433 non-null object\n",
      "Started                 1636 non-null object\n",
      "Status                  1636 non-null object\n",
      "StructuresDamaged       67 non-null float64\n",
      "StructuresDestroyed     175 non-null float64\n",
      "StructuresEvacuated     0 non-null float64\n",
      "StructuresThreatened    30 non-null float64\n",
      "UniqueId                1636 non-null object\n",
      "Updated                 1636 non-null object\n",
      "WaterTenders            146 non-null float64\n",
      "dtypes: bool(6), float64(17), int64(1), object(16)\n",
      "memory usage: 444.3+ KB\n"
     ]
    }
   ],
   "source": [
    "df_fire.info()"
   ]
  },
  {
   "cell_type": "code",
   "execution_count": 6,
   "metadata": {},
   "outputs": [
    {
     "data": {
      "text/plain": [
       "StructuresEvacuated     1636\n",
       "FuelType                1624\n",
       "Fatalities              1615\n",
       "AirTankers              1608\n",
       "StructuresThreatened    1606\n",
       "StructuresDamaged       1569\n",
       "Helicopters             1552\n",
       "ControlStatement        1525\n",
       "Injuries                1516\n",
       "Dozers                  1513\n",
       "WaterTenders            1490\n",
       "CrewsInvolved           1465\n",
       "StructuresDestroyed     1461\n",
       "Engines                 1445\n",
       "PersonnelInvolved       1432\n",
       "ConditionStatement      1352\n",
       "SearchKeywords           203\n",
       "Extinguished              59\n",
       "SearchDescription         17\n",
       "AcresBurned                3\n",
       "PercentContained           3\n",
       "Updated                    0\n",
       "Latitude                   0\n",
       "Active                     0\n",
       "AdminUnit                  0\n",
       "dtype: int64"
      ]
     },
     "execution_count": 6,
     "metadata": {},
     "output_type": "execute_result"
    }
   ],
   "source": [
    "df_fire.isnull().sum().sort_values(ascending = False ).head(25)"
   ]
  },
  {
   "cell_type": "code",
   "execution_count": 7,
   "metadata": {},
   "outputs": [],
   "source": [
    "pd.set_option('display.max_columns', 35)"
   ]
  },
  {
   "cell_type": "code",
   "execution_count": 8,
   "metadata": {},
   "outputs": [],
   "source": [
    "columns_to_drop = ['Active','Featured', 'Final', 'PercentContained','Public', 'SearchKeywords', 'Status']\n",
    "df_fire.drop(columns_to_drop, axis='columns', inplace=True)"
   ]
  },
  {
   "cell_type": "code",
   "execution_count": 9,
   "metadata": {},
   "outputs": [],
   "source": [
    "df_fire['Started'] = pd.to_datetime(df_fire['Started'])\n",
    "df_fire['Updated'] = pd.to_datetime(df_fire['Updated'])\n",
    "df_fire['Extinguished'] = pd.to_datetime(df_fire['Extinguished'])\n",
    "\n",
    "df_fire['YearStarted'] = df_fire['Started'].dt.year\n",
    "df_fire['MonthStarted'] = df_fire['Started'].dt.month\n",
    "df_fire = df_fire[df_fire.YearStarted != 1969]"
   ]
  },
  {
   "cell_type": "code",
   "execution_count": 10,
   "metadata": {},
   "outputs": [],
   "source": [
    "df_fire.fillna({'AcresBurned': 0, 'AirTankers': 0, 'ConditionStatement':'', 'ControlStatement':'', \n",
    "                'CrewsInvolved': 0, 'Dozers': 0, 'Engines': 0, 'Extinguished': 0, 'Fatalities': 0,\n",
    "               'FuelType':'', 'Helicopters': 0, 'Injuries': 0, 'PersonnelInvolved': 0,\n",
    "               'SearchDescription':'', 'StructuresDamaged': 0, 'StructuresDestroyed': 0,\n",
    "               'StructuresEvacuated': 0, 'StructuresThreatened': 0, 'WaterTenders': 0}, inplace=True)"
   ]
  },
  {
   "cell_type": "code",
   "execution_count": 11,
   "metadata": {},
   "outputs": [],
   "source": [
    "df_fire['AcresBurned'] = df_fire['AcresBurned'].astype('int64')\n",
    "df_fire['AirTankers'] = df_fire['AirTankers'].astype('int64')\n",
    "df_fire['CrewsInvolved'] = df_fire['CrewsInvolved'].astype('int64')\n",
    "df_fire['Dozers'] = df_fire['Dozers'].astype('int64')\n",
    "df_fire['Engines'] = df_fire['Engines'].astype('int64')\n",
    "df_fire['Fatalities'] = df_fire['Fatalities'].astype('int64')\n",
    "df_fire['Injuries'] = df_fire['Injuries'].astype('int64')\n",
    "df_fire['Helicopters'] = df_fire['Helicopters'].astype('int64')\n",
    "df_fire['PersonnelInvolved'] = df_fire['PersonnelInvolved'].astype('int64')\n",
    "df_fire['StructuresDamaged'] = df_fire['StructuresDamaged'].astype('int64')\n",
    "df_fire['StructuresDestroyed'] = df_fire['StructuresDestroyed'].astype('int64')\n",
    "df_fire['StructuresEvacuated'] = df_fire['StructuresEvacuated'].astype('int64')\n",
    "df_fire['StructuresThreatened'] = df_fire['StructuresThreatened'].astype('int64')\n",
    "df_fire['WaterTenders'] = df_fire['WaterTenders'].astype('int64')"
   ]
  },
  {
   "cell_type": "code",
   "execution_count": 12,
   "metadata": {},
   "outputs": [],
   "source": [
    "def as_thousand(value):\n",
    "    return value/1_000;"
   ]
  },
  {
   "cell_type": "markdown",
   "metadata": {},
   "source": [
    "### Data Visualization"
   ]
  },
  {
   "cell_type": "markdown",
   "metadata": {},
   "source": [
    "#### Count of Fire Incidents Between 2013 2019"
   ]
  },
  {
   "cell_type": "code",
   "execution_count": 13,
   "metadata": {},
   "outputs": [
    {
     "data": {
      "image/png": "[encoded data removed]",
      "text/plain": [
       "<Figure size 864x576 with 1 Axes>"
      ]
     },
     "metadata": {
      "needs_background": "light"
     },
     "output_type": "display_data"
    }
   ],
   "source": [
    "df_fire['YearStarted'].value_counts().sort_index().plot(kind='bar', figsize=(12,8))\n",
    "\n",
    "plt.xlabel('Year')\n",
    "plt.ylabel('No of Fire_Incidents')\n",
    "plt.title('Count of Fire Incidents Between 2013 2019');"
   ]
  },
  {
   "cell_type": "markdown",
   "metadata": {},
   "source": [
    "* 2017 Reported the largest in among these years"
   ]
  },
  {
   "cell_type": "markdown",
   "metadata": {},
   "source": [
    "#### Frequency of Fire per Month Between 2013 and  2020"
   ]
  },
  {
   "cell_type": "code",
   "execution_count": 14,
   "metadata": {},
   "outputs": [
    {
     "data": {
      "image/png": "[encoded data removed]",
      "text/plain": [
       "<Figure size 864x576 with 1 Axes>"
      ]
     },
     "metadata": {
      "needs_background": "light"
     },
     "output_type": "display_data"
    }
   ],
   "source": [
    "df_fire['MonthStarted'].value_counts().sort_index().plot(kind='bar', figsize=(12,8))\n",
    "\n",
    "plt.xlabel('Month of Year')\n",
    "plt.ylabel('Count of Fire Incidents')\n",
    "plt.title('Frequency of Fire per Month Between 2013 and  2020');"
   ]
  },
  {
   "cell_type": "markdown",
   "metadata": {},
   "source": [
    "* July month got more incidents"
   ]
  },
  {
   "cell_type": "markdown",
   "metadata": {},
   "source": [
    "#### Acres Burned in Thousands by Year Between 2013 2019"
   ]
  },
  {
   "cell_type": "code",
   "execution_count": 15,
   "metadata": {},
   "outputs": [
    {
     "data": {
      "image/png": "[encoded data removed]",
      "text/plain": [
       "<Figure size 936x648 with 1 Axes>"
      ]
     },
     "metadata": {
      "needs_background": "light"
     },
     "output_type": "display_data"
    }
   ],
   "source": [
    "df_fire.plot(kind='scatter', x='AcresBurned', y='YearStarted', figsize=(13,9), s=5)\n",
    "\n",
    "plt.xlabel('Acres Burned in Thousands')\n",
    "plt.ylabel('Fire Incident Year')\n",
    "plt.title('Acres Burned in Thousands by Year Between 2013 2019');"
   ]
  },
  {
   "cell_type": "markdown",
   "metadata": {},
   "source": [
    "* 2018 got the most incidents"
   ]
  },
  {
   "cell_type": "markdown",
   "metadata": {},
   "source": [
    "#### Fatalities caused in Each Year Between 2013 2019"
   ]
  },
  {
   "cell_type": "code",
   "execution_count": 16,
   "metadata": {},
   "outputs": [
    {
     "data": {
      "image/png": "[encoded data removed]",
      "text/plain": [
       "<Figure size 864x648 with 1 Axes>"
      ]
     },
     "metadata": {
      "needs_background": "light"
     },
     "output_type": "display_data"
    }
   ],
   "source": [
    "df_fire[['Fatalities', 'YearStarted']].groupby('YearStarted').sum().sort_values('Fatalities', ascending=False).plot(kind='bar', figsize=(12,9))\n",
    "\n",
    "plt.xlabel('Fire Incident Year')\n",
    "plt.ylabel('Fatalities count')\n",
    "plt.title('Fatalities in Each Year Between 2013 2019');\n"
   ]
  },
  {
   "cell_type": "markdown",
   "metadata": {},
   "source": [
    "* 2018 got more Fatalities even though the number of fires is lesser than 2017. And 2018 caused more damages."
   ]
  },
  {
   "cell_type": "markdown",
   "metadata": {},
   "source": [
    "#### Count of Fatalities caused by Acres Burned"
   ]
  },
  {
   "cell_type": "code",
   "execution_count": 17,
   "metadata": {},
   "outputs": [
    {
     "data": {
      "image/png": "[encoded data removed]",
      "text/plain": [
       "<Figure size 936x648 with 1 Axes>"
      ]
     },
     "metadata": {
      "needs_background": "light"
     },
     "output_type": "display_data"
    }
   ],
   "source": [
    "df_fire.plot(kind='scatter', x='AcresBurned', y='Fatalities', figsize=(13,9), s=5)\n",
    "\n",
    "plt.xlabel('Acres Burned in Thousands')\n",
    "plt.ylabel('Count of Fatalities')\n",
    "plt.title('Count of Fatalities by Acres Burned');"
   ]
  },
  {
   "cell_type": "markdown",
   "metadata": {},
   "source": [
    "#### Count of Structures in Danger by Acres Burned in Thousands"
   ]
  },
  {
   "cell_type": "code",
   "execution_count": 18,
   "metadata": {},
   "outputs": [
    {
     "data": {
      "image/png": "[encoded data removed]",
      "text/plain": [
       "<Figure size 1080x864 with 1 Axes>"
      ]
     },
     "metadata": {
      "needs_background": "light"
     },
     "output_type": "display_data"
    }
   ],
   "source": [
    "df_fire['Structures'] = (df_fire.StructuresDestroyed+df_fire.StructuresDamaged+df_fire.StructuresEvacuated+df_fire.StructuresThreatened)\n",
    "\n",
    "df_fire[['Structures', 'AcresBurned']].groupby('Structures').sum().apply(as_thousand).plot(kind='bar', figsize=(15,12))\n",
    "\n",
    "plt.xlabel('Acres Burned in Thousands')\n",
    "plt.ylabel('Count of Structures in Danger in Thousands')\n",
    "plt.title('Count of Structures in Danger by Acres Burned in Thousands');"
   ]
  },
  {
   "cell_type": "markdown",
   "metadata": {},
   "source": [
    "* Other than single incidents , when there is more acerage involved there is more structural damages involved."
   ]
  },
  {
   "cell_type": "markdown",
   "metadata": {},
   "source": [
    "#### Top Fifteen Counties where Fires Occured Between 2013 and 2019"
   ]
  },
  {
   "cell_type": "code",
   "execution_count": 19,
   "metadata": {},
   "outputs": [
    {
     "data": {
      "image/png": "[encoded data removed]",
      "text/plain": [
       "<Figure size 1080x648 with 1 Axes>"
      ]
     },
     "metadata": {
      "needs_background": "light"
     },
     "output_type": "display_data"
    }
   ],
   "source": [
    "df_fire['Counties'].value_counts().sort_index().head(15).plot(kind='bar', figsize=(15,9))\n",
    "\n",
    "plt.xlabel('County Name')\n",
    "plt.ylabel('Incident count')\n",
    "plt.title('Top Fifteen Counties where Fires Occured Between 2013 and 2019');"
   ]
  },
  {
   "cell_type": "markdown",
   "metadata": {},
   "source": [
    "* The highest frequency is in Butte , kem and fresno counties."
   ]
  },
  {
   "cell_type": "markdown",
   "metadata": {},
   "source": [
    "#### Acres Burned in each County Between 2013 and 2019"
   ]
  },
  {
   "cell_type": "code",
   "execution_count": 20,
   "metadata": {},
   "outputs": [
    {
     "data": {
      "image/png": "[encoded data removed]",
      "text/plain": [
       "<Figure size 864x504 with 1 Axes>"
      ]
     },
     "metadata": {
      "needs_background": "light"
     },
     "output_type": "display_data"
    }
   ],
   "source": [
    "df_fire[['Counties', 'AcresBurned']].groupby('Counties').sum().head(10).apply(as_thousand).plot(kind='bar', figsize=(12,7)) \n",
    "\n",
    "plt.xlabel('County Name')\n",
    "plt.ylabel('Acres Burned in Thousands')\n",
    "plt.title('Acres Burned in each County Between 2013 and 2019');"
   ]
  },
  {
   "cell_type": "markdown",
   "metadata": {},
   "source": [
    "* Colusa county had the most fire. "
   ]
  },
  {
   "cell_type": "markdown",
   "metadata": {},
   "source": [
    "#### Results of EDA analysis.\n",
    "\n",
    "* Wild Fire is getting more frequent\n",
    "* More and more acerage of land are getting burned each year.\n",
    "* MOre death and destruction is reported each year.\n",
    "* Changing climate is influencing the Damages.\n"
   ]
  },
  {
   "cell_type": "markdown",
   "metadata": {},
   "source": [
    "### ML using Weather and California Fire data"
   ]
  },
  {
   "cell_type": "markdown",
   "metadata": {},
   "source": [
    "#### Checking weather pattern in California versus wild fire and prediction of wild fire with sample data."
   ]
  },
  {
   "cell_type": "markdown",
   "metadata": {},
   "source": [
    "#### Data Preparation"
   ]
  },
  {
   "cell_type": "code",
   "execution_count": 21,
   "metadata": {},
   "outputs": [
    {
     "name": "stdout",
     "output_type": "stream",
     "text": [
      "Loaded weather data :    EventId  Type Severity       StartTime(UTC)         EndTime(UTC)  \\\n",
      "0     W-1  Snow    Light  2016-01-06 23:14:00  2016-01-07 00:34:00   \n",
      "\n",
      "   Precipitation(in)     TimeZone AirportCode  LocationLat  LocationLng  \\\n",
      "0                0.0  US/Mountain        K04V      38.0972    -106.1689   \n",
      "\n",
      "       City    County State  ZipCode  \n",
      "0  Saguache  Saguache    CO  81149.0  \n"
     ]
    }
   ],
   "source": [
    "df_weather = pd.read_csv('Dataset/WeatherEvents_Jan2016-Dec2021.csv')\n",
    "print (\"Loaded weather data : \", df_weather.head(1))"
   ]
  },
  {
   "cell_type": "code",
   "execution_count": 22,
   "metadata": {},
   "outputs": [
    {
     "name": "stdout",
     "output_type": "stream",
     "text": [
      "<class 'pandas.core.frame.DataFrame'>\n",
      "RangeIndex: 7479165 entries, 0 to 7479164\n",
      "Data columns (total 14 columns):\n",
      "EventId              object\n",
      "Type                 object\n",
      "Severity             object\n",
      "StartTime(UTC)       object\n",
      "EndTime(UTC)         object\n",
      "Precipitation(in)    float64\n",
      "TimeZone             object\n",
      "AirportCode          object\n",
      "LocationLat          float64\n",
      "LocationLng          float64\n",
      "City                 object\n",
      "County               object\n",
      "State                object\n",
      "ZipCode              float64\n",
      "dtypes: float64(4), object(10)\n",
      "memory usage: 798.9+ MB\n"
     ]
    }
   ],
   "source": [
    "df_weather.info()"
   ]
  },
  {
   "cell_type": "code",
   "execution_count": 23,
   "metadata": {},
   "outputs": [
    {
     "data": {
      "text/plain": [
       "ZipCode              59234\n",
       "City                 14563\n",
       "State                    0\n",
       "County                   0\n",
       "LocationLng              0\n",
       "LocationLat              0\n",
       "AirportCode              0\n",
       "TimeZone                 0\n",
       "Precipitation(in)        0\n",
       "EndTime(UTC)             0\n",
       "StartTime(UTC)           0\n",
       "Severity                 0\n",
       "Type                     0\n",
       "EventId                  0\n",
       "dtype: int64"
      ]
     },
     "execution_count": 23,
     "metadata": {},
     "output_type": "execute_result"
    }
   ],
   "source": [
    "df_weather.isnull().sum().sort_values(ascending = False ).head(25)"
   ]
  },
  {
   "cell_type": "code",
   "execution_count": 24,
   "metadata": {},
   "outputs": [
    {
     "data": {
      "text/plain": [
       "(7479165, 14)"
      ]
     },
     "execution_count": 24,
     "metadata": {},
     "output_type": "execute_result"
    }
   ],
   "source": [
    "df_weather.shape"
   ]
  },
  {
   "cell_type": "code",
   "execution_count": 25,
   "metadata": {},
   "outputs": [
    {
     "name": "stdout",
     "output_type": "stream",
     "text": [
      "Count of CA Weather events: 4331950\n"
     ]
    }
   ],
   "source": [
    "# California Weather data\n",
    "\n",
    "isCa = df_weather['State'] == 'CA'\n",
    "df_ca = df_weather[isCa]\n",
    "print(\"Count of CA Weather events:\", df_ca.size)"
   ]
  },
  {
   "cell_type": "code",
   "execution_count": 26,
   "metadata": {},
   "outputs": [
    {
     "data": {
      "text/html": [
       "<div>\n",
       "<style scoped>\n",
       "    .dataframe tbody tr th:only-of-type {\n",
       "        vertical-align: middle;\n",
       "    }\n",
       "\n",
       "    .dataframe tbody tr th {\n",
       "        vertical-align: top;\n",
       "    }\n",
       "\n",
       "    .dataframe thead th {\n",
       "        text-align: right;\n",
       "    }\n",
       "</style>\n",
       "<table border=\"1\" class=\"dataframe\">\n",
       "  <thead>\n",
       "    <tr style=\"text-align: right;\">\n",
       "      <th></th>\n",
       "      <th>Year</th>\n",
       "      <th>Month</th>\n",
       "      <th>Type</th>\n",
       "      <th>Severity</th>\n",
       "      <th>Count</th>\n",
       "      <th>Mean_Duration</th>\n",
       "    </tr>\n",
       "  </thead>\n",
       "  <tbody>\n",
       "    <tr>\n",
       "      <td>0</td>\n",
       "      <td>2016</td>\n",
       "      <td>1</td>\n",
       "      <td>Cold</td>\n",
       "      <td>Severe</td>\n",
       "      <td>179</td>\n",
       "      <td>22092.737430</td>\n",
       "    </tr>\n",
       "    <tr>\n",
       "      <td>1</td>\n",
       "      <td>2016</td>\n",
       "      <td>1</td>\n",
       "      <td>Fog</td>\n",
       "      <td>Moderate</td>\n",
       "      <td>887</td>\n",
       "      <td>4872.784667</td>\n",
       "    </tr>\n",
       "    <tr>\n",
       "      <td>2</td>\n",
       "      <td>2016</td>\n",
       "      <td>1</td>\n",
       "      <td>Fog</td>\n",
       "      <td>Severe</td>\n",
       "      <td>2170</td>\n",
       "      <td>4933.990783</td>\n",
       "    </tr>\n",
       "    <tr>\n",
       "      <td>3</td>\n",
       "      <td>2016</td>\n",
       "      <td>1</td>\n",
       "      <td>Precipitation</td>\n",
       "      <td>UNK</td>\n",
       "      <td>135</td>\n",
       "      <td>1651.111111</td>\n",
       "    </tr>\n",
       "    <tr>\n",
       "      <td>4</td>\n",
       "      <td>2016</td>\n",
       "      <td>1</td>\n",
       "      <td>Rain</td>\n",
       "      <td>Heavy</td>\n",
       "      <td>126</td>\n",
       "      <td>1879.523810</td>\n",
       "    </tr>\n",
       "    <tr>\n",
       "      <td>5</td>\n",
       "      <td>2016</td>\n",
       "      <td>1</td>\n",
       "      <td>Rain</td>\n",
       "      <td>Light</td>\n",
       "      <td>4428</td>\n",
       "      <td>5021.598916</td>\n",
       "    </tr>\n",
       "    <tr>\n",
       "      <td>6</td>\n",
       "      <td>2016</td>\n",
       "      <td>1</td>\n",
       "      <td>Rain</td>\n",
       "      <td>Moderate</td>\n",
       "      <td>1037</td>\n",
       "      <td>2777.820636</td>\n",
       "    </tr>\n",
       "    <tr>\n",
       "      <td>7</td>\n",
       "      <td>2016</td>\n",
       "      <td>1</td>\n",
       "      <td>Snow</td>\n",
       "      <td>Heavy</td>\n",
       "      <td>88</td>\n",
       "      <td>2449.772727</td>\n",
       "    </tr>\n",
       "    <tr>\n",
       "      <td>8</td>\n",
       "      <td>2016</td>\n",
       "      <td>1</td>\n",
       "      <td>Snow</td>\n",
       "      <td>Light</td>\n",
       "      <td>367</td>\n",
       "      <td>4676.239782</td>\n",
       "    </tr>\n",
       "    <tr>\n",
       "      <td>9</td>\n",
       "      <td>2016</td>\n",
       "      <td>1</td>\n",
       "      <td>Snow</td>\n",
       "      <td>Moderate</td>\n",
       "      <td>166</td>\n",
       "      <td>2068.554217</td>\n",
       "    </tr>\n",
       "    <tr>\n",
       "      <td>10</td>\n",
       "      <td>2016</td>\n",
       "      <td>1</td>\n",
       "      <td>Storm</td>\n",
       "      <td>Severe</td>\n",
       "      <td>75</td>\n",
       "      <td>3556.000000</td>\n",
       "    </tr>\n",
       "    <tr>\n",
       "      <td>11</td>\n",
       "      <td>2016</td>\n",
       "      <td>2</td>\n",
       "      <td>Cold</td>\n",
       "      <td>Severe</td>\n",
       "      <td>204</td>\n",
       "      <td>25397.941176</td>\n",
       "    </tr>\n",
       "    <tr>\n",
       "      <td>12</td>\n",
       "      <td>2016</td>\n",
       "      <td>2</td>\n",
       "      <td>Fog</td>\n",
       "      <td>Moderate</td>\n",
       "      <td>971</td>\n",
       "      <td>7364.922760</td>\n",
       "    </tr>\n",
       "    <tr>\n",
       "      <td>13</td>\n",
       "      <td>2016</td>\n",
       "      <td>2</td>\n",
       "      <td>Fog</td>\n",
       "      <td>Severe</td>\n",
       "      <td>920</td>\n",
       "      <td>5139.260870</td>\n",
       "    </tr>\n",
       "    <tr>\n",
       "      <td>14</td>\n",
       "      <td>2016</td>\n",
       "      <td>2</td>\n",
       "      <td>Precipitation</td>\n",
       "      <td>UNK</td>\n",
       "      <td>14</td>\n",
       "      <td>1971.428571</td>\n",
       "    </tr>\n",
       "  </tbody>\n",
       "</table>\n",
       "</div>"
      ],
      "text/plain": [
       "    Year  Month           Type  Severity  Count  Mean_Duration\n",
       "0   2016      1           Cold    Severe    179   22092.737430\n",
       "1   2016      1            Fog  Moderate    887    4872.784667\n",
       "2   2016      1            Fog    Severe   2170    4933.990783\n",
       "3   2016      1  Precipitation       UNK    135    1651.111111\n",
       "4   2016      1           Rain     Heavy    126    1879.523810\n",
       "5   2016      1           Rain     Light   4428    5021.598916\n",
       "6   2016      1           Rain  Moderate   1037    2777.820636\n",
       "7   2016      1           Snow     Heavy     88    2449.772727\n",
       "8   2016      1           Snow     Light    367    4676.239782\n",
       "9   2016      1           Snow  Moderate    166    2068.554217\n",
       "10  2016      1          Storm    Severe     75    3556.000000\n",
       "11  2016      2           Cold    Severe    204   25397.941176\n",
       "12  2016      2            Fog  Moderate    971    7364.922760\n",
       "13  2016      2            Fog    Severe    920    5139.260870\n",
       "14  2016      2  Precipitation       UNK     14    1971.428571"
      ]
     },
     "execution_count": 26,
     "metadata": {},
     "output_type": "execute_result"
    }
   ],
   "source": [
    "\n",
    "# weather data grouping\n",
    "\n",
    "start = pd.DatetimeIndex(df_ca['StartTime(UTC)']);\n",
    "end = pd.DatetimeIndex(df_ca['EndTime(UTC)']);\n",
    "df_ca['Mean_Duration'] = (end-start).total_seconds()\n",
    "df_ca['Year'] = start.year\n",
    "df_ca['Month'] = start.month\n",
    "\n",
    "\n",
    "grouped_data = df_ca.groupby(by=['Year','Month','Type','Severity'] ,as_index=False).agg({'Mean_Duration': \"mean\", 'EventId': \"count\"})\n",
    "grouped_data['Count'] = grouped_data.EventId\n",
    "caGrouped_data = grouped_data[['Year','Month','Type','Severity','Count',\"Mean_Duration\"]]\n",
    "caGrouped_data.head(15)"
   ]
  },
  {
   "cell_type": "code",
   "execution_count": 38,
   "metadata": {},
   "outputs": [],
   "source": [
    "#Preparation of weather data set for ML\n",
    "\n",
    "weather_types = [{'Type': 'Cold', 'Severity': 'Severe'},{'Type': 'Fog', 'Severity': 'Moderate'},{'Type': 'Fog', 'Severity': 'Severe'},{'Type': 'Precipitation', 'Severity': 'UNK'},\n",
    "                {'Type': 'Rain', 'Severity': 'Heavy'},{'Type': 'Rain', 'Severity': 'Light'},{'Type': 'Rain', 'Severity': 'Moderate'},{'Type': 'Snow', 'Severity': 'Heavy'},\n",
    "                {'Type': 'Snow', 'Severity': 'Light'},{'Type': 'Snow', 'Severity': 'Moderate'},{'Type': 'Storm', 'Severity': 'Severe'}]\n",
    "columns = ['Count','Mean_Duration']\n",
    "\n",
    "# Convert Data for every year.\n",
    "\n",
    "def Fn_createYearSet(year, uniqueTypes):\n",
    "    noOfMonths = 12\n",
    "    array = [0.0]*(noOfMonths * len(uniqueTypes) * len(columns))\n",
    "    \n",
    "    isYear =  caGrouped_data['Year'] == year\n",
    "    caYear = caGrouped_data[isYear]\n",
    "    i=0\n",
    "    for m in range(noOfMonths):\n",
    "        isMonth =  caYear['Month'] == m+1\n",
    "        caMonth = caYear[isMonth]\n",
    "        for u in uniqueTypes:\n",
    "            isType = caMonth['Type'] == u['Type']\n",
    "            caType = caMonth[isType]\n",
    "            isSeverity = caType['Severity'] == u['Severity']\n",
    "            caSevType = caType[isSeverity]\n",
    "            countSize = caSevType[\"Count\"].size\n",
    "            durationSize = caSevType[\"Mean_Duration\"].size\n",
    "            if countSize == 1:\n",
    "                array[i] = caSevType[\"Count\"].item()\n",
    "            i = i + 1\n",
    "            if durationSize == 1:\n",
    "                array[i] = caSevType[\"Mean_Duration\"].item()    \n",
    "            i = i + 1\n",
    "    return array"
   ]
  },
  {
   "cell_type": "code",
   "execution_count": 28,
   "metadata": {},
   "outputs": [
    {
     "data": {
      "text/html": [
       "<div>\n",
       "<style scoped>\n",
       "    .dataframe tbody tr th:only-of-type {\n",
       "        vertical-align: middle;\n",
       "    }\n",
       "\n",
       "    .dataframe tbody tr th {\n",
       "        vertical-align: top;\n",
       "    }\n",
       "\n",
       "    .dataframe thead th {\n",
       "        text-align: right;\n",
       "    }\n",
       "</style>\n",
       "<table border=\"1\" class=\"dataframe\">\n",
       "  <thead>\n",
       "    <tr style=\"text-align: right;\">\n",
       "      <th></th>\n",
       "      <th>AcresBurned</th>\n",
       "      <th>Active</th>\n",
       "      <th>AdminUnit</th>\n",
       "      <th>AirTankers</th>\n",
       "      <th>ArchiveYear</th>\n",
       "      <th>CalFireIncident</th>\n",
       "      <th>CanonicalUrl</th>\n",
       "      <th>ConditionStatement</th>\n",
       "      <th>ControlStatement</th>\n",
       "      <th>Counties</th>\n",
       "      <th>CountyIds</th>\n",
       "      <th>CrewsInvolved</th>\n",
       "      <th>Dozers</th>\n",
       "      <th>Engines</th>\n",
       "      <th>Extinguished</th>\n",
       "      <th>Fatalities</th>\n",
       "      <th>Featured</th>\n",
       "      <th>...</th>\n",
       "      <th>Longitude</th>\n",
       "      <th>MajorIncident</th>\n",
       "      <th>Name</th>\n",
       "      <th>PercentContained</th>\n",
       "      <th>PersonnelInvolved</th>\n",
       "      <th>Public</th>\n",
       "      <th>SearchDescription</th>\n",
       "      <th>SearchKeywords</th>\n",
       "      <th>Started</th>\n",
       "      <th>Status</th>\n",
       "      <th>StructuresDamaged</th>\n",
       "      <th>StructuresDestroyed</th>\n",
       "      <th>StructuresEvacuated</th>\n",
       "      <th>StructuresThreatened</th>\n",
       "      <th>UniqueId</th>\n",
       "      <th>Updated</th>\n",
       "      <th>WaterTenders</th>\n",
       "    </tr>\n",
       "  </thead>\n",
       "  <tbody>\n",
       "    <tr>\n",
       "      <td>431</td>\n",
       "      <td>132127.0</td>\n",
       "      <td>False</td>\n",
       "      <td>US Forest Service - Los Padres National Forest</td>\n",
       "      <td>NaN</td>\n",
       "      <td>2016</td>\n",
       "      <td>True</td>\n",
       "      <td>/incidents/2016/7/22/soberanes-fire/</td>\n",
       "      <td>As of August 26, CAL FIRE is no longer in unif...</td>\n",
       "      <td>NaN</td>\n",
       "      <td>Monterey</td>\n",
       "      <td>27</td>\n",
       "      <td>NaN</td>\n",
       "      <td>NaN</td>\n",
       "      <td>NaN</td>\n",
       "      <td>2016-10-13T11:30:00Z</td>\n",
       "      <td>NaN</td>\n",
       "      <td>False</td>\n",
       "      <td>...</td>\n",
       "      <td>-121.89938</td>\n",
       "      <td>True</td>\n",
       "      <td>Soberanes Fire</td>\n",
       "      <td>100.0</td>\n",
       "      <td>NaN</td>\n",
       "      <td>True</td>\n",
       "      <td>The Sobranes Fire started on July 22, 2016  ea...</td>\n",
       "      <td>east of Sobranes Creek,  5 miles south of Carm...</td>\n",
       "      <td>2016-07-22T08:48:00Z</td>\n",
       "      <td>Finalized</td>\n",
       "      <td>NaN</td>\n",
       "      <td>NaN</td>\n",
       "      <td>NaN</td>\n",
       "      <td>NaN</td>\n",
       "      <td>977ac7ce-4204-4cd3-9f89-727142165261</td>\n",
       "      <td>2016-10-13T11:30:00Z</td>\n",
       "      <td>NaN</td>\n",
       "    </tr>\n",
       "    <tr>\n",
       "      <td>432</td>\n",
       "      <td>48019.0</td>\n",
       "      <td>False</td>\n",
       "      <td>Bureau of Land Management</td>\n",
       "      <td>NaN</td>\n",
       "      <td>2016</td>\n",
       "      <td>True</td>\n",
       "      <td>/incidents/2016/6/23/erskine-fire/</td>\n",
       "      <td>NaN</td>\n",
       "      <td>NaN</td>\n",
       "      <td>Kern</td>\n",
       "      <td>15</td>\n",
       "      <td>NaN</td>\n",
       "      <td>NaN</td>\n",
       "      <td>NaN</td>\n",
       "      <td>2016-07-11T09:40:00Z</td>\n",
       "      <td>NaN</td>\n",
       "      <td>False</td>\n",
       "      <td>...</td>\n",
       "      <td>-118.45628</td>\n",
       "      <td>False</td>\n",
       "      <td>Erskine Fire</td>\n",
       "      <td>100.0</td>\n",
       "      <td>NaN</td>\n",
       "      <td>True</td>\n",
       "      <td>The Erskine Fire started on June 23, 2016 off ...</td>\n",
       "      <td>Erskine Fire, Kern County, Lake Isabella, June...</td>\n",
       "      <td>2016-06-23T15:51:00Z</td>\n",
       "      <td>Finalized</td>\n",
       "      <td>NaN</td>\n",
       "      <td>NaN</td>\n",
       "      <td>NaN</td>\n",
       "      <td>NaN</td>\n",
       "      <td>91816ff6-d4ec-4f31-8d40-bf2538aca09b</td>\n",
       "      <td>2016-07-11T09:40:00Z</td>\n",
       "      <td>NaN</td>\n",
       "    </tr>\n",
       "    <tr>\n",
       "      <td>433</td>\n",
       "      <td>46344.0</td>\n",
       "      <td>False</td>\n",
       "      <td>CAL FIRE San Luis Obispo Unit</td>\n",
       "      <td>NaN</td>\n",
       "      <td>2016</td>\n",
       "      <td>True</td>\n",
       "      <td>/incidents/2016/8/13/chimney-fire/</td>\n",
       "      <td>The Chimney fire is now fully contained. There...</td>\n",
       "      <td>All road closures have been lifted.</td>\n",
       "      <td>San Luis Obispo</td>\n",
       "      <td>40</td>\n",
       "      <td>NaN</td>\n",
       "      <td>NaN</td>\n",
       "      <td>NaN</td>\n",
       "      <td>2016-09-06T07:30:00Z</td>\n",
       "      <td>NaN</td>\n",
       "      <td>False</td>\n",
       "      <td>...</td>\n",
       "      <td>-120.98316</td>\n",
       "      <td>True</td>\n",
       "      <td>Chimney Fire</td>\n",
       "      <td>100.0</td>\n",
       "      <td>NaN</td>\n",
       "      <td>True</td>\n",
       "      <td>The Chimney Fire started on August 13, 2016 at...</td>\n",
       "      <td>Chimney Fire, San Luis Obispo County, Lake Nac...</td>\n",
       "      <td>2016-08-13T16:03:00Z</td>\n",
       "      <td>Finalized</td>\n",
       "      <td>8.0</td>\n",
       "      <td>70.0</td>\n",
       "      <td>NaN</td>\n",
       "      <td>NaN</td>\n",
       "      <td>040d03d0-fbdd-438c-8174-f81e4a1bba57</td>\n",
       "      <td>2016-09-06T07:30:00Z</td>\n",
       "      <td>NaN</td>\n",
       "    </tr>\n",
       "    <tr>\n",
       "      <td>434</td>\n",
       "      <td>36274.0</td>\n",
       "      <td>False</td>\n",
       "      <td>San Bernardino National Forest</td>\n",
       "      <td>NaN</td>\n",
       "      <td>2016</td>\n",
       "      <td>True</td>\n",
       "      <td>/incidents/2016/8/16/blue-cut-fire/</td>\n",
       "      <td>Minimal fire behavior was observed overnight. ...</td>\n",
       "      <td>All evacuations orders have been lifted.  Resi...</td>\n",
       "      <td>San Bernardino</td>\n",
       "      <td>36</td>\n",
       "      <td>21.0</td>\n",
       "      <td>6.0</td>\n",
       "      <td>47.0</td>\n",
       "      <td>2016-08-23T07:45:00Z</td>\n",
       "      <td>NaN</td>\n",
       "      <td>False</td>\n",
       "      <td>...</td>\n",
       "      <td>-117.49342</td>\n",
       "      <td>True</td>\n",
       "      <td>Blue Cut Fire</td>\n",
       "      <td>100.0</td>\n",
       "      <td>914.0</td>\n",
       "      <td>True</td>\n",
       "      <td>The Bluecut Fire started on August 16 off of I...</td>\n",
       "      <td>off of I-15 and Hwy 138, north of San Bernardi...</td>\n",
       "      <td>2016-08-16T10:44:00Z</td>\n",
       "      <td>Finalized</td>\n",
       "      <td>3.0</td>\n",
       "      <td>321.0</td>\n",
       "      <td>NaN</td>\n",
       "      <td>NaN</td>\n",
       "      <td>ea5193a1-69bc-4684-bfcd-235c17d36756</td>\n",
       "      <td>2016-08-23T07:45:00Z</td>\n",
       "      <td>9.0</td>\n",
       "    </tr>\n",
       "    <tr>\n",
       "      <td>435</td>\n",
       "      <td>33867.0</td>\n",
       "      <td>False</td>\n",
       "      <td>USFS Klamath National Forest</td>\n",
       "      <td>NaN</td>\n",
       "      <td>2016</td>\n",
       "      <td>False</td>\n",
       "      <td>/incidents/2016/8/27/gap-fire/</td>\n",
       "      <td>NaN</td>\n",
       "      <td>NaN</td>\n",
       "      <td>Siskiyou</td>\n",
       "      <td>47</td>\n",
       "      <td>NaN</td>\n",
       "      <td>NaN</td>\n",
       "      <td>NaN</td>\n",
       "      <td>2016-08-28T18:15:00Z</td>\n",
       "      <td>NaN</td>\n",
       "      <td>False</td>\n",
       "      <td>...</td>\n",
       "      <td>-123.11800</td>\n",
       "      <td>False</td>\n",
       "      <td>Gap Fire</td>\n",
       "      <td>100.0</td>\n",
       "      <td>NaN</td>\n",
       "      <td>True</td>\n",
       "      <td>The Gap Fire started on August 27, 2016 off Se...</td>\n",
       "      <td>Gap Fire, Siskiyou County</td>\n",
       "      <td>2016-08-27T18:00:00Z</td>\n",
       "      <td>Finalized</td>\n",
       "      <td>NaN</td>\n",
       "      <td>NaN</td>\n",
       "      <td>NaN</td>\n",
       "      <td>NaN</td>\n",
       "      <td>85683fd7-b507-4ec7-8bbd-fb7033a42665</td>\n",
       "      <td>2016-08-28T18:15:00Z</td>\n",
       "      <td>NaN</td>\n",
       "    </tr>\n",
       "    <tr>\n",
       "      <td>436</td>\n",
       "      <td>32606.0</td>\n",
       "      <td>False</td>\n",
       "      <td>Los Padres National Forest</td>\n",
       "      <td>NaN</td>\n",
       "      <td>2016</td>\n",
       "      <td>True</td>\n",
       "      <td>/incidents/2016/8/18/rey-fire/</td>\n",
       "      <td>NaN</td>\n",
       "      <td>NaN</td>\n",
       "      <td>Santa Barbara</td>\n",
       "      <td>42</td>\n",
       "      <td>NaN</td>\n",
       "      <td>NaN</td>\n",
       "      <td>NaN</td>\n",
       "      <td>2016-09-15T15:20:00Z</td>\n",
       "      <td>NaN</td>\n",
       "      <td>False</td>\n",
       "      <td>...</td>\n",
       "      <td>0.00000</td>\n",
       "      <td>False</td>\n",
       "      <td>Rey Fire</td>\n",
       "      <td>100.0</td>\n",
       "      <td>NaN</td>\n",
       "      <td>True</td>\n",
       "      <td>The Rey Fire started on August 18 off of Hwy 1...</td>\n",
       "      <td>Hwy 154 and Paradise Rd, north of Santa Barbar...</td>\n",
       "      <td>2016-08-18T17:57:00Z</td>\n",
       "      <td>Finalized</td>\n",
       "      <td>NaN</td>\n",
       "      <td>NaN</td>\n",
       "      <td>NaN</td>\n",
       "      <td>NaN</td>\n",
       "      <td>dc3f57ff-a935-4c25-bbe3-e00eeb5b5f42</td>\n",
       "      <td>2016-09-15T15:20:00Z</td>\n",
       "      <td>NaN</td>\n",
       "    </tr>\n",
       "    <tr>\n",
       "      <td>437</td>\n",
       "      <td>29322.0</td>\n",
       "      <td>False</td>\n",
       "      <td>Sequoia National Forest</td>\n",
       "      <td>NaN</td>\n",
       "      <td>2016</td>\n",
       "      <td>False</td>\n",
       "      <td>/incidents/2016/8/16/cedar-fire/</td>\n",
       "      <td>NaN</td>\n",
       "      <td>NaN</td>\n",
       "      <td>Kern</td>\n",
       "      <td>15</td>\n",
       "      <td>NaN</td>\n",
       "      <td>NaN</td>\n",
       "      <td>NaN</td>\n",
       "      <td>2016-10-01T06:00:00Z</td>\n",
       "      <td>NaN</td>\n",
       "      <td>False</td>\n",
       "      <td>...</td>\n",
       "      <td>-118.56780</td>\n",
       "      <td>False</td>\n",
       "      <td>Cedar Fire</td>\n",
       "      <td>100.0</td>\n",
       "      <td>NaN</td>\n",
       "      <td>True</td>\n",
       "      <td>The Cedar Fire started on August 16 off of Hwy...</td>\n",
       "      <td>off of Hwy 155 in the Greenhorn Mountains, wes...</td>\n",
       "      <td>2016-08-16T16:35:00Z</td>\n",
       "      <td>Finalized</td>\n",
       "      <td>NaN</td>\n",
       "      <td>NaN</td>\n",
       "      <td>NaN</td>\n",
       "      <td>NaN</td>\n",
       "      <td>e247e423-6171-4184-9dca-b373de703885</td>\n",
       "      <td>2016-10-01T06:00:00Z</td>\n",
       "      <td>NaN</td>\n",
       "    </tr>\n",
       "    <tr>\n",
       "      <td>438</td>\n",
       "      <td>12518.0</td>\n",
       "      <td>False</td>\n",
       "      <td>Vandenberg Air Force Base</td>\n",
       "      <td>NaN</td>\n",
       "      <td>2016</td>\n",
       "      <td>False</td>\n",
       "      <td>/incidents/2016/9/17/canyon-fire/</td>\n",
       "      <td>NaN</td>\n",
       "      <td>NaN</td>\n",
       "      <td>Santa Barbara</td>\n",
       "      <td>42</td>\n",
       "      <td>NaN</td>\n",
       "      <td>NaN</td>\n",
       "      <td>NaN</td>\n",
       "      <td>2016-09-27T14:00:00Z</td>\n",
       "      <td>NaN</td>\n",
       "      <td>False</td>\n",
       "      <td>...</td>\n",
       "      <td>-120.54421</td>\n",
       "      <td>False</td>\n",
       "      <td>Canyon Fire</td>\n",
       "      <td>100.0</td>\n",
       "      <td>NaN</td>\n",
       "      <td>True</td>\n",
       "      <td>The Canyon Fire started on September 18, 2016 ...</td>\n",
       "      <td>Canyon Fire, Santa Ynez Ridge Road and Egress ...</td>\n",
       "      <td>2016-09-17T17:20:00Z</td>\n",
       "      <td>Finalized</td>\n",
       "      <td>NaN</td>\n",
       "      <td>NaN</td>\n",
       "      <td>NaN</td>\n",
       "      <td>NaN</td>\n",
       "      <td>f6afb8c4-32dc-4e6d-8d30-e6b7ccd4a62f</td>\n",
       "      <td>2016-09-27T14:00:00Z</td>\n",
       "      <td>NaN</td>\n",
       "    </tr>\n",
       "    <tr>\n",
       "      <td>439</td>\n",
       "      <td>8110.0</td>\n",
       "      <td>False</td>\n",
       "      <td>San Bernardino National Forest</td>\n",
       "      <td>0.0</td>\n",
       "      <td>2016</td>\n",
       "      <td>True</td>\n",
       "      <td>/incidents/2016/8/7/pilot-fire/</td>\n",
       "      <td>The Pilot Fire is located between Pilot Rock R...</td>\n",
       "      <td>Highway 173 between Grass Valley Rd. and Rock ...</td>\n",
       "      <td>San Bernardino</td>\n",
       "      <td>36</td>\n",
       "      <td>30.0</td>\n",
       "      <td>3.0</td>\n",
       "      <td>37.0</td>\n",
       "      <td>2016-08-16T08:00:00Z</td>\n",
       "      <td>NaN</td>\n",
       "      <td>False</td>\n",
       "      <td>...</td>\n",
       "      <td>-117.27338</td>\n",
       "      <td>True</td>\n",
       "      <td>Pilot Fire</td>\n",
       "      <td>100.0</td>\n",
       "      <td>960.0</td>\n",
       "      <td>True</td>\n",
       "      <td>The Pilot Fire started on August 7, 2016, near...</td>\n",
       "      <td>Pilot Fire August, 2016, Pilot Rock &amp; Hwy 138,...</td>\n",
       "      <td>2016-08-07T12:18:00Z</td>\n",
       "      <td>Finalized</td>\n",
       "      <td>NaN</td>\n",
       "      <td>NaN</td>\n",
       "      <td>NaN</td>\n",
       "      <td>NaN</td>\n",
       "      <td>69c7b8cc-061e-4ca6-b5e8-83c6ae9d8a25</td>\n",
       "      <td>2016-08-16T08:00:00Z</td>\n",
       "      <td>7.0</td>\n",
       "    </tr>\n",
       "    <tr>\n",
       "      <td>440</td>\n",
       "      <td>7609.0</td>\n",
       "      <td>False</td>\n",
       "      <td>CAL FIRE San Diego Unit</td>\n",
       "      <td>NaN</td>\n",
       "      <td>2016</td>\n",
       "      <td>True</td>\n",
       "      <td>/incidents/2016/6/19/border-fire/</td>\n",
       "      <td>Firefighters continue to strengthen containmen...</td>\n",
       "      <td>No current road closures.</td>\n",
       "      <td>San Diego</td>\n",
       "      <td>37</td>\n",
       "      <td>NaN</td>\n",
       "      <td>NaN</td>\n",
       "      <td>NaN</td>\n",
       "      <td>2016-06-30T18:30:00Z</td>\n",
       "      <td>NaN</td>\n",
       "      <td>False</td>\n",
       "      <td>...</td>\n",
       "      <td>-116.63028</td>\n",
       "      <td>True</td>\n",
       "      <td>Border Fire</td>\n",
       "      <td>100.0</td>\n",
       "      <td>78.0</td>\n",
       "      <td>True</td>\n",
       "      <td>The Border Fire started on June 19 off Highway...</td>\n",
       "      <td>Border Fire, off Highway 188 and Highway 94 ne...</td>\n",
       "      <td>2016-06-19T11:03:00Z</td>\n",
       "      <td>Finalized</td>\n",
       "      <td>NaN</td>\n",
       "      <td>16.0</td>\n",
       "      <td>NaN</td>\n",
       "      <td>NaN</td>\n",
       "      <td>33099cdd-ccfc-454e-b5a3-770a69a30bd3</td>\n",
       "      <td>2016-06-30T18:30:00Z</td>\n",
       "      <td>NaN</td>\n",
       "    </tr>\n",
       "  </tbody>\n",
       "</table>\n",
       "<p>10 rows × 40 columns</p>\n",
       "</div>"
      ],
      "text/plain": [
       "     AcresBurned  Active                                       AdminUnit  \\\n",
       "431     132127.0   False  US Forest Service - Los Padres National Forest   \n",
       "432      48019.0   False                       Bureau of Land Management   \n",
       "433      46344.0   False                   CAL FIRE San Luis Obispo Unit   \n",
       "434      36274.0   False                 San Bernardino National Forest    \n",
       "435      33867.0   False                    USFS Klamath National Forest   \n",
       "436      32606.0   False                      Los Padres National Forest   \n",
       "437      29322.0   False                         Sequoia National Forest   \n",
       "438      12518.0   False                       Vandenberg Air Force Base   \n",
       "439       8110.0   False                  San Bernardino National Forest   \n",
       "440       7609.0   False                         CAL FIRE San Diego Unit   \n",
       "\n",
       "     AirTankers  ArchiveYear  CalFireIncident  \\\n",
       "431         NaN         2016             True   \n",
       "432         NaN         2016             True   \n",
       "433         NaN         2016             True   \n",
       "434         NaN         2016             True   \n",
       "435         NaN         2016            False   \n",
       "436         NaN         2016             True   \n",
       "437         NaN         2016            False   \n",
       "438         NaN         2016            False   \n",
       "439         0.0         2016             True   \n",
       "440         NaN         2016             True   \n",
       "\n",
       "                             CanonicalUrl  \\\n",
       "431  /incidents/2016/7/22/soberanes-fire/   \n",
       "432    /incidents/2016/6/23/erskine-fire/   \n",
       "433    /incidents/2016/8/13/chimney-fire/   \n",
       "434   /incidents/2016/8/16/blue-cut-fire/   \n",
       "435        /incidents/2016/8/27/gap-fire/   \n",
       "436        /incidents/2016/8/18/rey-fire/   \n",
       "437      /incidents/2016/8/16/cedar-fire/   \n",
       "438     /incidents/2016/9/17/canyon-fire/   \n",
       "439       /incidents/2016/8/7/pilot-fire/   \n",
       "440     /incidents/2016/6/19/border-fire/   \n",
       "\n",
       "                                    ConditionStatement  \\\n",
       "431  As of August 26, CAL FIRE is no longer in unif...   \n",
       "432                                                NaN   \n",
       "433  The Chimney fire is now fully contained. There...   \n",
       "434  Minimal fire behavior was observed overnight. ...   \n",
       "435                                                NaN   \n",
       "436                                                NaN   \n",
       "437                                                NaN   \n",
       "438                                                NaN   \n",
       "439  The Pilot Fire is located between Pilot Rock R...   \n",
       "440  Firefighters continue to strengthen containmen...   \n",
       "\n",
       "                                      ControlStatement         Counties  \\\n",
       "431                                                NaN         Monterey   \n",
       "432                                                NaN             Kern   \n",
       "433               All road closures have been lifted.   San Luis Obispo   \n",
       "434  All evacuations orders have been lifted.  Resi...   San Bernardino   \n",
       "435                                                NaN         Siskiyou   \n",
       "436                                                NaN    Santa Barbara   \n",
       "437                                                NaN             Kern   \n",
       "438                                                NaN    Santa Barbara   \n",
       "439  Highway 173 between Grass Valley Rd. and Rock ...   San Bernardino   \n",
       "440                          No current road closures.        San Diego   \n",
       "\n",
       "    CountyIds  CrewsInvolved  Dozers  Engines          Extinguished  \\\n",
       "431        27            NaN     NaN      NaN  2016-10-13T11:30:00Z   \n",
       "432        15            NaN     NaN      NaN  2016-07-11T09:40:00Z   \n",
       "433        40            NaN     NaN      NaN  2016-09-06T07:30:00Z   \n",
       "434        36           21.0     6.0     47.0  2016-08-23T07:45:00Z   \n",
       "435        47            NaN     NaN      NaN  2016-08-28T18:15:00Z   \n",
       "436        42            NaN     NaN      NaN  2016-09-15T15:20:00Z   \n",
       "437        15            NaN     NaN      NaN  2016-10-01T06:00:00Z   \n",
       "438        42            NaN     NaN      NaN  2016-09-27T14:00:00Z   \n",
       "439        36           30.0     3.0     37.0  2016-08-16T08:00:00Z   \n",
       "440        37            NaN     NaN      NaN  2016-06-30T18:30:00Z   \n",
       "\n",
       "     Fatalities  Featured  ...  Longitude MajorIncident            Name  \\\n",
       "431         NaN     False  ... -121.89938          True  Soberanes Fire   \n",
       "432         NaN     False  ... -118.45628         False    Erskine Fire   \n",
       "433         NaN     False  ... -120.98316          True    Chimney Fire   \n",
       "434         NaN     False  ... -117.49342          True   Blue Cut Fire   \n",
       "435         NaN     False  ... -123.11800         False        Gap Fire   \n",
       "436         NaN     False  ...    0.00000         False       Rey Fire    \n",
       "437         NaN     False  ... -118.56780         False      Cedar Fire   \n",
       "438         NaN     False  ... -120.54421         False     Canyon Fire   \n",
       "439         NaN     False  ... -117.27338          True      Pilot Fire   \n",
       "440         NaN     False  ... -116.63028          True     Border Fire   \n",
       "\n",
       "     PercentContained  PersonnelInvolved Public  \\\n",
       "431             100.0                NaN   True   \n",
       "432             100.0                NaN   True   \n",
       "433             100.0                NaN   True   \n",
       "434             100.0              914.0   True   \n",
       "435             100.0                NaN   True   \n",
       "436             100.0                NaN   True   \n",
       "437             100.0                NaN   True   \n",
       "438             100.0                NaN   True   \n",
       "439             100.0              960.0   True   \n",
       "440             100.0               78.0   True   \n",
       "\n",
       "                                     SearchDescription  \\\n",
       "431  The Sobranes Fire started on July 22, 2016  ea...   \n",
       "432  The Erskine Fire started on June 23, 2016 off ...   \n",
       "433  The Chimney Fire started on August 13, 2016 at...   \n",
       "434  The Bluecut Fire started on August 16 off of I...   \n",
       "435  The Gap Fire started on August 27, 2016 off Se...   \n",
       "436  The Rey Fire started on August 18 off of Hwy 1...   \n",
       "437  The Cedar Fire started on August 16 off of Hwy...   \n",
       "438  The Canyon Fire started on September 18, 2016 ...   \n",
       "439  The Pilot Fire started on August 7, 2016, near...   \n",
       "440  The Border Fire started on June 19 off Highway...   \n",
       "\n",
       "                                        SearchKeywords               Started  \\\n",
       "431  east of Sobranes Creek,  5 miles south of Carm...  2016-07-22T08:48:00Z   \n",
       "432  Erskine Fire, Kern County, Lake Isabella, June...  2016-06-23T15:51:00Z   \n",
       "433  Chimney Fire, San Luis Obispo County, Lake Nac...  2016-08-13T16:03:00Z   \n",
       "434  off of I-15 and Hwy 138, north of San Bernardi...  2016-08-16T10:44:00Z   \n",
       "435                          Gap Fire, Siskiyou County  2016-08-27T18:00:00Z   \n",
       "436  Hwy 154 and Paradise Rd, north of Santa Barbar...  2016-08-18T17:57:00Z   \n",
       "437  off of Hwy 155 in the Greenhorn Mountains, wes...  2016-08-16T16:35:00Z   \n",
       "438  Canyon Fire, Santa Ynez Ridge Road and Egress ...  2016-09-17T17:20:00Z   \n",
       "439  Pilot Fire August, 2016, Pilot Rock & Hwy 138,...  2016-08-07T12:18:00Z   \n",
       "440  Border Fire, off Highway 188 and Highway 94 ne...  2016-06-19T11:03:00Z   \n",
       "\n",
       "        Status  StructuresDamaged  StructuresDestroyed StructuresEvacuated  \\\n",
       "431  Finalized                NaN                  NaN                 NaN   \n",
       "432  Finalized                NaN                  NaN                 NaN   \n",
       "433  Finalized                8.0                 70.0                 NaN   \n",
       "434  Finalized                3.0                321.0                 NaN   \n",
       "435  Finalized                NaN                  NaN                 NaN   \n",
       "436  Finalized                NaN                  NaN                 NaN   \n",
       "437  Finalized                NaN                  NaN                 NaN   \n",
       "438  Finalized                NaN                  NaN                 NaN   \n",
       "439  Finalized                NaN                  NaN                 NaN   \n",
       "440  Finalized                NaN                 16.0                 NaN   \n",
       "\n",
       "    StructuresThreatened                              UniqueId  \\\n",
       "431                  NaN  977ac7ce-4204-4cd3-9f89-727142165261   \n",
       "432                  NaN  91816ff6-d4ec-4f31-8d40-bf2538aca09b   \n",
       "433                  NaN  040d03d0-fbdd-438c-8174-f81e4a1bba57   \n",
       "434                  NaN  ea5193a1-69bc-4684-bfcd-235c17d36756   \n",
       "435                  NaN  85683fd7-b507-4ec7-8bbd-fb7033a42665   \n",
       "436                  NaN  dc3f57ff-a935-4c25-bbe3-e00eeb5b5f42   \n",
       "437                  NaN  e247e423-6171-4184-9dca-b373de703885   \n",
       "438                  NaN  f6afb8c4-32dc-4e6d-8d30-e6b7ccd4a62f   \n",
       "439                  NaN  69c7b8cc-061e-4ca6-b5e8-83c6ae9d8a25   \n",
       "440                  NaN  33099cdd-ccfc-454e-b5a3-770a69a30bd3   \n",
       "\n",
       "                  Updated  WaterTenders  \n",
       "431  2016-10-13T11:30:00Z           NaN  \n",
       "432  2016-07-11T09:40:00Z           NaN  \n",
       "433  2016-09-06T07:30:00Z           NaN  \n",
       "434  2016-08-23T07:45:00Z           9.0  \n",
       "435  2016-08-28T18:15:00Z           NaN  \n",
       "436  2016-09-15T15:20:00Z           NaN  \n",
       "437  2016-10-01T06:00:00Z           NaN  \n",
       "438  2016-09-27T14:00:00Z           NaN  \n",
       "439  2016-08-16T08:00:00Z           7.0  \n",
       "440  2016-06-30T18:30:00Z           NaN  \n",
       "\n",
       "[10 rows x 40 columns]"
      ]
     },
     "execution_count": 28,
     "metadata": {},
     "output_type": "execute_result"
    }
   ],
   "source": [
    "# Wild fire data\n",
    "\n",
    "fire_df =pd.read_csv('Dataset/California_Fire_Incidents.csv')\n",
    "\n",
    "# wildfire events for 2016 to 2019\n",
    "\n",
    "isFireRecent = fire_df['ArchiveYear'].isin([2016,2017,2018,2019])\n",
    "fireNew_df = fire_df[isFireRecent]\n",
    "fireNew_df.head(10)"
   ]
  },
  {
   "cell_type": "code",
   "execution_count": 30,
   "metadata": {},
   "outputs": [
    {
     "data": {
      "text/html": [
       "<div>\n",
       "<style scoped>\n",
       "    .dataframe tbody tr th:only-of-type {\n",
       "        vertical-align: middle;\n",
       "    }\n",
       "\n",
       "    .dataframe tbody tr th {\n",
       "        vertical-align: top;\n",
       "    }\n",
       "\n",
       "    .dataframe thead th {\n",
       "        text-align: right;\n",
       "    }\n",
       "</style>\n",
       "<table border=\"1\" class=\"dataframe\">\n",
       "  <thead>\n",
       "    <tr style=\"text-align: right;\">\n",
       "      <th></th>\n",
       "      <th>ArchiveYear</th>\n",
       "      <th>Month</th>\n",
       "      <th>AcresBurned</th>\n",
       "      <th>Count</th>\n",
       "    </tr>\n",
       "  </thead>\n",
       "  <tbody>\n",
       "    <tr>\n",
       "      <td>0</td>\n",
       "      <td>2016</td>\n",
       "      <td>4</td>\n",
       "      <td>231.0</td>\n",
       "      <td>4</td>\n",
       "    </tr>\n",
       "    <tr>\n",
       "      <td>1</td>\n",
       "      <td>2016</td>\n",
       "      <td>5</td>\n",
       "      <td>8904.0</td>\n",
       "      <td>16</td>\n",
       "    </tr>\n",
       "    <tr>\n",
       "      <td>2</td>\n",
       "      <td>2016</td>\n",
       "      <td>6</td>\n",
       "      <td>92616.0</td>\n",
       "      <td>40</td>\n",
       "    </tr>\n",
       "    <tr>\n",
       "      <td>3</td>\n",
       "      <td>2016</td>\n",
       "      <td>7</td>\n",
       "      <td>145672.0</td>\n",
       "      <td>45</td>\n",
       "    </tr>\n",
       "    <tr>\n",
       "      <td>4</td>\n",
       "      <td>2016</td>\n",
       "      <td>8</td>\n",
       "      <td>212946.0</td>\n",
       "      <td>43</td>\n",
       "    </tr>\n",
       "    <tr>\n",
       "      <td>5</td>\n",
       "      <td>2016</td>\n",
       "      <td>9</td>\n",
       "      <td>34008.0</td>\n",
       "      <td>30</td>\n",
       "    </tr>\n",
       "  </tbody>\n",
       "</table>\n",
       "</div>"
      ],
      "text/plain": [
       "   ArchiveYear  Month  AcresBurned  Count\n",
       "0         2016      4        231.0      4\n",
       "1         2016      5       8904.0     16\n",
       "2         2016      6      92616.0     40\n",
       "3         2016      7     145672.0     45\n",
       "4         2016      8     212946.0     43\n",
       "5         2016      9      34008.0     30"
      ]
     },
     "execution_count": 30,
     "metadata": {},
     "output_type": "execute_result"
    }
   ],
   "source": [
    "# Fire data grouping similar to weather data, group on month. \n",
    "\n",
    "start = pd.DatetimeIndex(fireNew_df['Started']);\n",
    "fireNew_df['Month'] = start.month\n",
    "groupedFire_df = fireNew_df.groupby(by=['ArchiveYear','Month'] ,as_index=False).agg({'AcresBurned': \"sum\",'Active':'count'})\n",
    "groupedFire_df['Count'] = groupedFire_df.Active\n",
    "caGroupedFire = groupedFire_df[['ArchiveYear','Month','AcresBurned','Count']]\n",
    "caGroupedFire.head(6)\n",
    "\n"
   ]
  },
  {
   "cell_type": "code",
   "execution_count": 34,
   "metadata": {},
   "outputs": [
    {
     "data": {
      "image/png": "[encoded data removed]",
      "text/plain": [
       "<Figure size 432x288 with 2 Axes>"
      ]
     },
     "metadata": {
      "needs_background": "light"
     },
     "output_type": "display_data"
    },
    {
     "data": {
      "text/plain": [
       "<Figure size 72x72 with 0 Axes>"
      ]
     },
     "metadata": {},
     "output_type": "display_data"
    },
    {
     "data": {
      "image/png": "[encoded data removed]",
      "text/plain": [
       "<Figure size 432x288 with 2 Axes>"
      ]
     },
     "metadata": {
      "needs_background": "light"
     },
     "output_type": "display_data"
    },
    {
     "data": {
      "text/plain": [
       "<Figure size 72x72 with 0 Axes>"
      ]
     },
     "metadata": {},
     "output_type": "display_data"
    },
    {
     "data": {
      "image/png": "[encoded data removed]",
      "text/plain": [
       "<Figure size 432x288 with 2 Axes>"
      ]
     },
     "metadata": {
      "needs_background": "light"
     },
     "output_type": "display_data"
    },
    {
     "data": {
      "text/plain": [
       "<Figure size 72x72 with 0 Axes>"
      ]
     },
     "metadata": {},
     "output_type": "display_data"
    },
    {
     "data": {
      "image/png": "[encoded data removed]",
      "text/plain": [
       "<Figure size 432x288 with 2 Axes>"
      ]
     },
     "metadata": {
      "needs_background": "light"
     },
     "output_type": "display_data"
    },
    {
     "data": {
      "text/plain": [
       "<Figure size 72x72 with 0 Axes>"
      ]
     },
     "metadata": {},
     "output_type": "display_data"
    }
   ],
   "source": [
    "import scipy.stats as stats\n",
    "import matplotlib.pyplot as plt\n",
    "\n",
    "\n",
    "#Comparison of Rain and acres burned each year.\n",
    "\n",
    "\n",
    "\n",
    "for year in [2016,2017,2018,2019]:\n",
    "  \n",
    "\n",
    "    caGroupType_data = caGrouped_data.groupby(by=['Type','Month','Year'] ,as_index=False).agg({'Mean_Duration': \"mean\", 'Count': \"sum\"})\n",
    "    dtRain= caGroupType_data[\"Type\"] ==\"Rain\"\n",
    "    dtYear= caGroupType_data[\"Year\"] ==year\n",
    "    rain = caGroupType_data[dtRain][dtYear]\n",
    "\n",
    "\n",
    "    \n",
    "    renameFire = caGroupedFire.rename(columns={'ArchiveYear': 'Year','Count' :'FireEventCount'})\n",
    "    isFireYear= renameFire[\"Year\"] == year\n",
    "    renameFire = renameFire[isFireYear]\n",
    "    dtFireRaindata = pd.merge(rain, renameFire,  how='left', left_on=['Month','Year'], right_on = ['Month','Year'])\n",
    "\n",
    "\n",
    "   ## Plot for  Rain and acrerage burning comparison\n",
    "    \n",
    "    ax = plt.gca()\n",
    "    dtFireRaindata.plot(kind='line',x='Month',y='Count',ax=ax)\n",
    "    plt.ylabel(\"Rain_Events\")\n",
    "    dtFireRaindata.plot(secondary_y=True,kind='line',x='Month',y='AcresBurned',color='red', ax=ax)\n",
    "    plt.ylabel(\"Acres_Burned\")\n",
    "    plt.suptitle(\"California wildfire Acres_Burned and Rain comparison \" + str(year))\n",
    "    plt.figure(figsize=(1,1))\n",
    "    plt.show()"
   ]
  },
  {
   "cell_type": "code",
   "execution_count": 35,
   "metadata": {},
   "outputs": [
    {
     "data": {
      "text/html": [
       "<div>\n",
       "<style scoped>\n",
       "    .dataframe tbody tr th:only-of-type {\n",
       "        vertical-align: middle;\n",
       "    }\n",
       "\n",
       "    .dataframe tbody tr th {\n",
       "        vertical-align: top;\n",
       "    }\n",
       "\n",
       "    .dataframe thead th {\n",
       "        text-align: right;\n",
       "    }\n",
       "</style>\n",
       "<table border=\"1\" class=\"dataframe\">\n",
       "  <thead>\n",
       "    <tr style=\"text-align: right;\">\n",
       "      <th></th>\n",
       "      <th>ArchiveYear</th>\n",
       "      <th>AcresBurned</th>\n",
       "      <th>Count</th>\n",
       "      <th>BadYear</th>\n",
       "    </tr>\n",
       "  </thead>\n",
       "  <tbody>\n",
       "    <tr>\n",
       "      <td>0</td>\n",
       "      <td>2016</td>\n",
       "      <td>505927.0</td>\n",
       "      <td>185</td>\n",
       "      <td>False</td>\n",
       "    </tr>\n",
       "    <tr>\n",
       "      <td>1</td>\n",
       "      <td>2017</td>\n",
       "      <td>1793915.0</td>\n",
       "      <td>438</td>\n",
       "      <td>True</td>\n",
       "    </tr>\n",
       "    <tr>\n",
       "      <td>2</td>\n",
       "      <td>2018</td>\n",
       "      <td>3358049.0</td>\n",
       "      <td>316</td>\n",
       "      <td>True</td>\n",
       "    </tr>\n",
       "    <tr>\n",
       "      <td>3</td>\n",
       "      <td>2019</td>\n",
       "      <td>285708.0</td>\n",
       "      <td>266</td>\n",
       "      <td>False</td>\n",
       "    </tr>\n",
       "  </tbody>\n",
       "</table>\n",
       "</div>"
      ],
      "text/plain": [
       "   ArchiveYear  AcresBurned  Count  BadYear\n",
       "0         2016     505927.0    185    False\n",
       "1         2017    1793915.0    438     True\n",
       "2         2018    3358049.0    316     True\n",
       "3         2019     285708.0    266    False"
      ]
     },
     "execution_count": 35,
     "metadata": {},
     "output_type": "execute_result"
    }
   ],
   "source": [
    "# Grouping data per year\n",
    "\n",
    "DtgroupedFireYear = caGroupedFire.groupby(by=['ArchiveYear'] ,as_index=False).agg({'AcresBurned': \"sum\",'Count':'sum'})\n",
    "mean = DtgroupedFireYear[['AcresBurned']].mean()\n",
    "DtgroupedFireYear['BadYear'] =DtgroupedFireYear['AcresBurned'] >  mean.item()\n",
    "DtgroupedFireYear.head(5)"
   ]
  },
  {
   "cell_type": "code",
   "execution_count": 36,
   "metadata": {},
   "outputs": [
    {
     "name": "stdout",
     "output_type": "stream",
     "text": [
      "[[0.]\n",
      " [1.]\n",
      " [1.]]\n"
     ]
    }
   ],
   "source": [
    "# Expected output Y for ML\n",
    "\n",
    "DttrainingFireYears = DtgroupedFireYear[DtgroupedFireYear['ArchiveYear'].isin([2016,2017,2018])]\n",
    "DttrainingYTransposed = DttrainingFireYears.BadYear.to_frame().T.astype(float)\n",
    "DttrainingY = np.reshape(DttrainingYTransposed.to_numpy(), (3,1))\n",
    "print(DttrainingY)"
   ]
  },
  {
   "cell_type": "code",
   "execution_count": 39,
   "metadata": {},
   "outputs": [
    {
     "name": "stdout",
     "output_type": "stream",
     "text": [
      "Model \n",
      " Input layer size : 264\n",
      "Model: \"learnModel\"\n",
      "_________________________________________________________________\n",
      "Layer (type)                 Output Shape              Param #   \n",
      "=================================================================\n",
      "input_1 (InputLayer)         [(None, 264)]             0         \n",
      "_________________________________________________________________\n",
      "dense (Dense)                (None, 264)               69960     \n",
      "_________________________________________________________________\n",
      "dense_1 (Dense)              (None, 90)                23850     \n",
      "_________________________________________________________________\n",
      "dense_2 (Dense)              (None, 40)                3640      \n",
      "_________________________________________________________________\n",
      "dense_3 (Dense)              (None, 1)                 41        \n",
      "=================================================================\n",
      "Total params: 97,491\n",
      "Trainable params: 97,491\n",
      "Non-trainable params: 0\n",
      "_________________________________________________________________\n",
      "Epoch 1/40\n",
      "1/1 [==============================] - 0s 437ms/step - loss: 0.4695 - accuracy: 0.3333\n",
      "Epoch 2/40\n",
      "1/1 [==============================] - 0s 2ms/step - loss: 0.3178 - accuracy: 0.3333\n",
      "Epoch 3/40\n",
      "1/1 [==============================] - 0s 2ms/step - loss: 0.1748 - accuracy: 1.0000\n",
      "Epoch 4/40\n",
      "1/1 [==============================] - 0s 2ms/step - loss: 0.1399 - accuracy: 0.6667\n",
      "Epoch 5/40\n",
      "1/1 [==============================] - 0s 3ms/step - loss: 0.1062 - accuracy: 1.0000\n",
      "Epoch 6/40\n",
      "1/1 [==============================] - 0s 3ms/step - loss: 0.0755 - accuracy: 1.0000\n",
      "Epoch 7/40\n",
      "1/1 [==============================] - 0s 2ms/step - loss: 0.0615 - accuracy: 1.0000\n",
      "Epoch 8/40\n",
      "1/1 [==============================] - 0s 3ms/step - loss: 0.0492 - accuracy: 1.0000\n",
      "Epoch 9/40\n",
      "1/1 [==============================] - 0s 2ms/step - loss: 0.0392 - accuracy: 1.0000\n",
      "Epoch 10/40\n",
      "1/1 [==============================] - 0s 3ms/step - loss: 0.0334 - accuracy: 1.0000\n",
      "Epoch 11/40\n",
      "1/1 [==============================] - 0s 3ms/step - loss: 0.0282 - accuracy: 1.0000\n",
      "Epoch 12/40\n",
      "1/1 [==============================] - 0s 3ms/step - loss: 0.0242 - accuracy: 1.0000\n",
      "Epoch 13/40\n",
      "1/1 [==============================] - 0s 2ms/step - loss: 0.0215 - accuracy: 1.0000\n",
      "Epoch 14/40\n",
      "1/1 [==============================] - 0s 3ms/step - loss: 0.0189 - accuracy: 1.0000\n",
      "Epoch 15/40\n",
      "1/1 [==============================] - 0s 3ms/step - loss: 0.0169 - accuracy: 1.0000\n",
      "Epoch 16/40\n",
      "1/1 [==============================] - 0s 2ms/step - loss: 0.0153 - accuracy: 1.0000\n",
      "Epoch 17/40\n",
      "1/1 [==============================] - 0s 2ms/step - loss: 0.0139 - accuracy: 1.0000\n",
      "Epoch 18/40\n",
      "1/1 [==============================] - 0s 2ms/step - loss: 0.0128 - accuracy: 1.0000\n",
      "Epoch 19/40\n",
      "1/1 [==============================] - 0s 2ms/step - loss: 0.0117 - accuracy: 1.0000\n",
      "Epoch 20/40\n",
      "1/1 [==============================] - 0s 2ms/step - loss: 0.0109 - accuracy: 1.0000\n",
      "Epoch 21/40\n",
      "1/1 [==============================] - 0s 3ms/step - loss: 0.0100 - accuracy: 1.0000\n",
      "Epoch 22/40\n",
      "1/1 [==============================] - 0s 3ms/step - loss: 0.0093 - accuracy: 1.0000\n",
      "Epoch 23/40\n",
      "1/1 [==============================] - 0s 2ms/step - loss: 0.0087 - accuracy: 1.0000\n",
      "Epoch 24/40\n",
      "1/1 [==============================] - 0s 2ms/step - loss: 0.0081 - accuracy: 1.0000\n",
      "Epoch 25/40\n",
      "1/1 [==============================] - 0s 2ms/step - loss: 0.0076 - accuracy: 1.0000\n",
      "Epoch 26/40\n",
      "1/1 [==============================] - 0s 3ms/step - loss: 0.0072 - accuracy: 1.0000\n",
      "Epoch 27/40\n",
      "1/1 [==============================] - 0s 2ms/step - loss: 0.0068 - accuracy: 1.0000\n",
      "Epoch 28/40\n",
      "1/1 [==============================] - 0s 2ms/step - loss: 0.0064 - accuracy: 1.0000\n",
      "Epoch 29/40\n",
      "1/1 [==============================] - 0s 4ms/step - loss: 0.0061 - accuracy: 1.0000\n",
      "Epoch 30/40\n",
      "1/1 [==============================] - 0s 3ms/step - loss: 0.0058 - accuracy: 1.0000\n",
      "Epoch 31/40\n",
      "1/1 [==============================] - 0s 2ms/step - loss: 0.0055 - accuracy: 1.0000\n",
      "Epoch 32/40\n",
      "1/1 [==============================] - 0s 3ms/step - loss: 0.0052 - accuracy: 1.0000\n",
      "Epoch 33/40\n",
      "1/1 [==============================] - 0s 3ms/step - loss: 0.0050 - accuracy: 1.0000\n",
      "Epoch 34/40\n",
      "1/1 [==============================] - 0s 2ms/step - loss: 0.0047 - accuracy: 1.0000\n",
      "Epoch 35/40\n",
      "1/1 [==============================] - 0s 2ms/step - loss: 0.0045 - accuracy: 1.0000\n",
      "Epoch 36/40\n",
      "1/1 [==============================] - 0s 3ms/step - loss: 0.0043 - accuracy: 1.0000\n",
      "Epoch 37/40\n",
      "1/1 [==============================] - 0s 3ms/step - loss: 0.0041 - accuracy: 1.0000\n",
      "Epoch 38/40\n",
      "1/1 [==============================] - 0s 2ms/step - loss: 0.0040 - accuracy: 1.0000\n",
      "Epoch 39/40\n",
      "1/1 [==============================] - 0s 3ms/step - loss: 0.0038 - accuracy: 1.0000\n",
      "Epoch 40/40\n",
      "1/1 [==============================] - 0s 2ms/step - loss: 0.0036 - accuracy: 1.0000\n",
      "1/1 - 0s - loss: 0.0035 - accuracy: 1.0000\n",
      "Test loss: 0.003497722325846553\n",
      "Test accuracy: 1.0\n"
     ]
    },
    {
     "data": {
      "text/plain": [
       "array([[0.860163]], dtype=float32)"
      ]
     },
     "execution_count": 39,
     "metadata": {},
     "output_type": "execute_result"
    }
   ],
   "source": [
    "import tensorflow as tf\n",
    "from tensorflow import keras\n",
    "from tensorflow.keras import layers\n",
    "\n",
    "# ML model for prediction of 2019.\n",
    "\n",
    "input2016 = Fn_createYearSet(2016,weather_types) \n",
    "input2017 = Fn_createYearSet(2017,weather_types) \n",
    "input2018 = Fn_createYearSet(2018,weather_types)  \n",
    "input2019 = Fn_createYearSet(2019,weather_types)\n",
    "\n",
    "firstLayerSize = len(input2016)\n",
    "secondLayerSize = 90\n",
    "thirdLayerSize = 40\n",
    "outputSize = 1\n",
    "\n",
    "print(\"Model \") \n",
    "print(\" Input layer size : \"+ str(len(input2016)))\n",
    "\n",
    "inputs = keras.Input(shape=(len(input2016),))\n",
    "dense1 = layers.Dense(firstLayerSize, activation=\"sigmoid\")(inputs)\n",
    "dense2 = layers.Dense(secondLayerSize, activation=\"relu\")(dense1)\n",
    "dense3 = layers.Dense(thirdLayerSize, activation=\"relu\")(dense2)\n",
    "outputs = layers.Dense(outputSize, activation=\"sigmoid\")(dense3)\n",
    "\n",
    "model = keras.Model(inputs=inputs, outputs=outputs, name=\"learnModel\")\n",
    "model.summary()\n",
    "\n",
    "opt = keras.optimizers.SGD(lr=0.05, momentum=0.5)\n",
    "model.compile(loss='mean_squared_error', optimizer=opt,metrics=[\"accuracy\"])\n",
    "\n",
    "DttrainingX = np.array([input2016,input2017,input2018])\n",
    "model.fit(DttrainingX,DttrainingY,batch_size=3, epochs=40)\n",
    "\n",
    "test_scores = model.evaluate(DttrainingX, DttrainingY, verbose=2)\n",
    "print(\"Test loss:\", test_scores[0])\n",
    "print(\"Test accuracy:\", test_scores[1])\n",
    "\n",
    "\n",
    "model.predict([input2019])\n"
   ]
  },
  {
   "cell_type": "markdown",
   "metadata": {},
   "source": [
    "### Conclusion\n",
    "\n",
    "* Received Accuracy of 86% from this test data.\n",
    "* This can be improved by using more dataset and multiple iteration of execution.\n",
    "* This model can be further tuned and can be used for prediction."
   ]
  },
  {
   "cell_type": "markdown",
   "metadata": {},
   "source": [
    "        \n",
    "\n",
    "#### Data sets used\n",
    "    \n",
    "* \"https://www.kaggle.com/sandstorm0123/wildfires-in-california-prediction/data?select=US_WeatherEvents_2016-2019.csv\"\n",
    "* \"https://www.kaggle.com/ananthu017/california-wildfire-incidents-20132020\"\n",
    "            \n",
    "#### Code Reference \n",
    "\n",
    "* \"https://www.kaggle.com/sandstorm0123/wildfires-in-california-prediction/data\"\n",
    "* \"https://www.kaggle.com/ananthu017/california-wildfire-incidents-20132020\"\n",
    "    \n"
   ]
  }
 ],
 "metadata": {
  "kernelspec": {
   "display_name": "Python 3",
   "language": "python",
   "name": "python3"
  },
  "language_info": {
   "codemirror_mode": {
    "name": "ipython",
    "version": 3
   },
   "file_extension": ".py",
   "mimetype": "text/x-python",
   "name": "python",
   "nbconvert_exporter": "python",
   "pygments_lexer": "ipython3",
   "version": "3.7.4"
  }
 },
 "nbformat": 4,
 "nbformat_minor": 2
}
